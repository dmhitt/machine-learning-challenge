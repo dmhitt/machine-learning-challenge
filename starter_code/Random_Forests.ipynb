{
 "cells": [
  {
   "cell_type": "code",
   "execution_count": 1,
   "metadata": {},
   "outputs": [],
   "source": [
    "from sklearn.ensemble import RandomForestClassifier\n",
    "import pandas as pd\n",
    "import numpy as np"
   ]
  },
  {
   "cell_type": "markdown",
   "metadata": {},
   "source": [
    "# Read the CSV and Perform Basic Data Cleaning"
   ]
  },
  {
   "cell_type": "code",
   "execution_count": 2,
   "metadata": {},
   "outputs": [
    {
     "data": {
      "text/html": [
       "<div>\n",
       "<style scoped>\n",
       "    .dataframe tbody tr th:only-of-type {\n",
       "        vertical-align: middle;\n",
       "    }\n",
       "\n",
       "    .dataframe tbody tr th {\n",
       "        vertical-align: top;\n",
       "    }\n",
       "\n",
       "    .dataframe thead th {\n",
       "        text-align: right;\n",
       "    }\n",
       "</style>\n",
       "<table border=\"1\" class=\"dataframe\">\n",
       "  <thead>\n",
       "    <tr style=\"text-align: right;\">\n",
       "      <th></th>\n",
       "      <th>koi_disposition</th>\n",
       "      <th>koi_fpflag_nt</th>\n",
       "      <th>koi_fpflag_ss</th>\n",
       "      <th>koi_fpflag_co</th>\n",
       "      <th>koi_fpflag_ec</th>\n",
       "      <th>koi_period</th>\n",
       "      <th>koi_period_err1</th>\n",
       "      <th>koi_period_err2</th>\n",
       "      <th>koi_time0bk</th>\n",
       "      <th>koi_time0bk_err1</th>\n",
       "      <th>...</th>\n",
       "      <th>koi_steff_err2</th>\n",
       "      <th>koi_slogg</th>\n",
       "      <th>koi_slogg_err1</th>\n",
       "      <th>koi_slogg_err2</th>\n",
       "      <th>koi_srad</th>\n",
       "      <th>koi_srad_err1</th>\n",
       "      <th>koi_srad_err2</th>\n",
       "      <th>ra</th>\n",
       "      <th>dec</th>\n",
       "      <th>koi_kepmag</th>\n",
       "    </tr>\n",
       "  </thead>\n",
       "  <tbody>\n",
       "    <tr>\n",
       "      <th>0</th>\n",
       "      <td>CONFIRMED</td>\n",
       "      <td>0</td>\n",
       "      <td>0</td>\n",
       "      <td>0</td>\n",
       "      <td>0</td>\n",
       "      <td>54.418383</td>\n",
       "      <td>2.479000e-04</td>\n",
       "      <td>-2.479000e-04</td>\n",
       "      <td>162.513840</td>\n",
       "      <td>0.003520</td>\n",
       "      <td>...</td>\n",
       "      <td>-81</td>\n",
       "      <td>4.467</td>\n",
       "      <td>0.064</td>\n",
       "      <td>-0.096</td>\n",
       "      <td>0.927</td>\n",
       "      <td>0.105</td>\n",
       "      <td>-0.061</td>\n",
       "      <td>291.93423</td>\n",
       "      <td>48.141651</td>\n",
       "      <td>15.347</td>\n",
       "    </tr>\n",
       "    <tr>\n",
       "      <th>1</th>\n",
       "      <td>FALSE POSITIVE</td>\n",
       "      <td>0</td>\n",
       "      <td>1</td>\n",
       "      <td>0</td>\n",
       "      <td>0</td>\n",
       "      <td>19.899140</td>\n",
       "      <td>1.490000e-05</td>\n",
       "      <td>-1.490000e-05</td>\n",
       "      <td>175.850252</td>\n",
       "      <td>0.000581</td>\n",
       "      <td>...</td>\n",
       "      <td>-176</td>\n",
       "      <td>4.544</td>\n",
       "      <td>0.044</td>\n",
       "      <td>-0.176</td>\n",
       "      <td>0.868</td>\n",
       "      <td>0.233</td>\n",
       "      <td>-0.078</td>\n",
       "      <td>297.00482</td>\n",
       "      <td>48.134129</td>\n",
       "      <td>15.436</td>\n",
       "    </tr>\n",
       "    <tr>\n",
       "      <th>2</th>\n",
       "      <td>FALSE POSITIVE</td>\n",
       "      <td>0</td>\n",
       "      <td>1</td>\n",
       "      <td>0</td>\n",
       "      <td>0</td>\n",
       "      <td>1.736952</td>\n",
       "      <td>2.630000e-07</td>\n",
       "      <td>-2.630000e-07</td>\n",
       "      <td>170.307565</td>\n",
       "      <td>0.000115</td>\n",
       "      <td>...</td>\n",
       "      <td>-174</td>\n",
       "      <td>4.564</td>\n",
       "      <td>0.053</td>\n",
       "      <td>-0.168</td>\n",
       "      <td>0.791</td>\n",
       "      <td>0.201</td>\n",
       "      <td>-0.067</td>\n",
       "      <td>285.53461</td>\n",
       "      <td>48.285210</td>\n",
       "      <td>15.597</td>\n",
       "    </tr>\n",
       "    <tr>\n",
       "      <th>3</th>\n",
       "      <td>CONFIRMED</td>\n",
       "      <td>0</td>\n",
       "      <td>0</td>\n",
       "      <td>0</td>\n",
       "      <td>0</td>\n",
       "      <td>2.525592</td>\n",
       "      <td>3.760000e-06</td>\n",
       "      <td>-3.760000e-06</td>\n",
       "      <td>171.595550</td>\n",
       "      <td>0.001130</td>\n",
       "      <td>...</td>\n",
       "      <td>-211</td>\n",
       "      <td>4.438</td>\n",
       "      <td>0.070</td>\n",
       "      <td>-0.210</td>\n",
       "      <td>1.046</td>\n",
       "      <td>0.334</td>\n",
       "      <td>-0.133</td>\n",
       "      <td>288.75488</td>\n",
       "      <td>48.226200</td>\n",
       "      <td>15.509</td>\n",
       "    </tr>\n",
       "    <tr>\n",
       "      <th>4</th>\n",
       "      <td>CONFIRMED</td>\n",
       "      <td>0</td>\n",
       "      <td>0</td>\n",
       "      <td>0</td>\n",
       "      <td>0</td>\n",
       "      <td>4.134435</td>\n",
       "      <td>1.050000e-05</td>\n",
       "      <td>-1.050000e-05</td>\n",
       "      <td>172.979370</td>\n",
       "      <td>0.001900</td>\n",
       "      <td>...</td>\n",
       "      <td>-232</td>\n",
       "      <td>4.486</td>\n",
       "      <td>0.054</td>\n",
       "      <td>-0.229</td>\n",
       "      <td>0.972</td>\n",
       "      <td>0.315</td>\n",
       "      <td>-0.105</td>\n",
       "      <td>296.28613</td>\n",
       "      <td>48.224670</td>\n",
       "      <td>15.714</td>\n",
       "    </tr>\n",
       "  </tbody>\n",
       "</table>\n",
       "<p>5 rows × 41 columns</p>\n",
       "</div>"
      ],
      "text/plain": [
       "  koi_disposition  koi_fpflag_nt  koi_fpflag_ss  koi_fpflag_co  koi_fpflag_ec  \\\n",
       "0       CONFIRMED              0              0              0              0   \n",
       "1  FALSE POSITIVE              0              1              0              0   \n",
       "2  FALSE POSITIVE              0              1              0              0   \n",
       "3       CONFIRMED              0              0              0              0   \n",
       "4       CONFIRMED              0              0              0              0   \n",
       "\n",
       "   koi_period  koi_period_err1  koi_period_err2  koi_time0bk  \\\n",
       "0   54.418383     2.479000e-04    -2.479000e-04   162.513840   \n",
       "1   19.899140     1.490000e-05    -1.490000e-05   175.850252   \n",
       "2    1.736952     2.630000e-07    -2.630000e-07   170.307565   \n",
       "3    2.525592     3.760000e-06    -3.760000e-06   171.595550   \n",
       "4    4.134435     1.050000e-05    -1.050000e-05   172.979370   \n",
       "\n",
       "   koi_time0bk_err1  ...  koi_steff_err2  koi_slogg  koi_slogg_err1  \\\n",
       "0          0.003520  ...             -81      4.467           0.064   \n",
       "1          0.000581  ...            -176      4.544           0.044   \n",
       "2          0.000115  ...            -174      4.564           0.053   \n",
       "3          0.001130  ...            -211      4.438           0.070   \n",
       "4          0.001900  ...            -232      4.486           0.054   \n",
       "\n",
       "   koi_slogg_err2  koi_srad  koi_srad_err1  koi_srad_err2         ra  \\\n",
       "0          -0.096     0.927          0.105         -0.061  291.93423   \n",
       "1          -0.176     0.868          0.233         -0.078  297.00482   \n",
       "2          -0.168     0.791          0.201         -0.067  285.53461   \n",
       "3          -0.210     1.046          0.334         -0.133  288.75488   \n",
       "4          -0.229     0.972          0.315         -0.105  296.28613   \n",
       "\n",
       "         dec  koi_kepmag  \n",
       "0  48.141651      15.347  \n",
       "1  48.134129      15.436  \n",
       "2  48.285210      15.597  \n",
       "3  48.226200      15.509  \n",
       "4  48.224670      15.714  \n",
       "\n",
       "[5 rows x 41 columns]"
      ]
     },
     "execution_count": 2,
     "metadata": {},
     "output_type": "execute_result"
    }
   ],
   "source": [
    "df = pd.read_csv(\"exoplanet_data.csv\")\n",
    "# Drop the null columns where all values are null\n",
    "df = df.dropna(axis='columns', how='all')\n",
    "# Drop the null rows\n",
    "df = df.dropna()\n",
    "df.head()"
   ]
  },
  {
   "cell_type": "markdown",
   "metadata": {},
   "source": [
    "# Select your features (columns)"
   ]
  },
  {
   "cell_type": "code",
   "execution_count": 3,
   "metadata": {},
   "outputs": [
    {
     "data": {
      "text/plain": [
       "(6991, 40)"
      ]
     },
     "execution_count": 3,
     "metadata": {},
     "output_type": "execute_result"
    }
   ],
   "source": [
    "# Set features. This will also be used as your x values.\n",
    "#selected_features = df.drop(['koi_disposition'], axis = 1)\n",
    "X = df.drop(['koi_disposition'], axis = 1)\n",
    "X.shape"
   ]
  },
  {
   "cell_type": "markdown",
   "metadata": {},
   "source": [
    "# Create a Train Test Split\n",
    "\n",
    "Use `koi_disposition` for the y values"
   ]
  },
  {
   "cell_type": "code",
   "execution_count": 4,
   "metadata": {},
   "outputs": [
    {
     "data": {
      "text/plain": [
       "(6991,)"
      ]
     },
     "execution_count": 4,
     "metadata": {},
     "output_type": "execute_result"
    }
   ],
   "source": [
    "y = df['koi_disposition']\n",
    "y_names = ['CONFIRMED','FALSE POSITIVE','CANDIDATE']\n",
    "y.shape\n",
    "#df.koi_disposition.value_counts()"
   ]
  },
  {
   "cell_type": "code",
   "execution_count": 5,
   "metadata": {},
   "outputs": [
    {
     "data": {
      "text/plain": [
       "((5592, 40), (1399, 40), (5592,), (1399,))"
      ]
     },
     "execution_count": 5,
     "metadata": {},
     "output_type": "execute_result"
    }
   ],
   "source": [
    "from sklearn.model_selection import train_test_split\n",
    "X_train, X_test, y_train, y_test = train_test_split(X, y, test_size=.2)\n",
    "\n",
    "X_train.shape, X_test.shape, y_train.shape, y_test.shape\n"
   ]
  },
  {
   "cell_type": "code",
   "execution_count": 6,
   "metadata": {},
   "outputs": [
    {
     "data": {
      "text/html": [
       "<div>\n",
       "<style scoped>\n",
       "    .dataframe tbody tr th:only-of-type {\n",
       "        vertical-align: middle;\n",
       "    }\n",
       "\n",
       "    .dataframe tbody tr th {\n",
       "        vertical-align: top;\n",
       "    }\n",
       "\n",
       "    .dataframe thead th {\n",
       "        text-align: right;\n",
       "    }\n",
       "</style>\n",
       "<table border=\"1\" class=\"dataframe\">\n",
       "  <thead>\n",
       "    <tr style=\"text-align: right;\">\n",
       "      <th></th>\n",
       "      <th>koi_fpflag_nt</th>\n",
       "      <th>koi_fpflag_ss</th>\n",
       "      <th>koi_fpflag_co</th>\n",
       "      <th>koi_fpflag_ec</th>\n",
       "      <th>koi_period</th>\n",
       "      <th>koi_period_err1</th>\n",
       "      <th>koi_period_err2</th>\n",
       "      <th>koi_time0bk</th>\n",
       "      <th>koi_time0bk_err1</th>\n",
       "      <th>koi_time0bk_err2</th>\n",
       "      <th>...</th>\n",
       "      <th>koi_steff_err2</th>\n",
       "      <th>koi_slogg</th>\n",
       "      <th>koi_slogg_err1</th>\n",
       "      <th>koi_slogg_err2</th>\n",
       "      <th>koi_srad</th>\n",
       "      <th>koi_srad_err1</th>\n",
       "      <th>koi_srad_err2</th>\n",
       "      <th>ra</th>\n",
       "      <th>dec</th>\n",
       "      <th>koi_kepmag</th>\n",
       "    </tr>\n",
       "  </thead>\n",
       "  <tbody>\n",
       "    <tr>\n",
       "      <th>2921</th>\n",
       "      <td>0</td>\n",
       "      <td>0</td>\n",
       "      <td>0</td>\n",
       "      <td>0</td>\n",
       "      <td>170.995748</td>\n",
       "      <td>1.230000e-03</td>\n",
       "      <td>-1.230000e-03</td>\n",
       "      <td>163.957370</td>\n",
       "      <td>0.006430</td>\n",
       "      <td>-0.006430</td>\n",
       "      <td>...</td>\n",
       "      <td>-85</td>\n",
       "      <td>3.991</td>\n",
       "      <td>0.188</td>\n",
       "      <td>-0.101</td>\n",
       "      <td>1.983</td>\n",
       "      <td>0.337</td>\n",
       "      <td>-0.506</td>\n",
       "      <td>298.03305</td>\n",
       "      <td>39.883179</td>\n",
       "      <td>13.985</td>\n",
       "    </tr>\n",
       "    <tr>\n",
       "      <th>4085</th>\n",
       "      <td>0</td>\n",
       "      <td>0</td>\n",
       "      <td>1</td>\n",
       "      <td>1</td>\n",
       "      <td>0.566799</td>\n",
       "      <td>6.080000e-06</td>\n",
       "      <td>-6.080000e-06</td>\n",
       "      <td>131.843100</td>\n",
       "      <td>0.010400</td>\n",
       "      <td>-0.010400</td>\n",
       "      <td>...</td>\n",
       "      <td>-84</td>\n",
       "      <td>4.553</td>\n",
       "      <td>0.013</td>\n",
       "      <td>-0.117</td>\n",
       "      <td>0.870</td>\n",
       "      <td>0.120</td>\n",
       "      <td>-0.032</td>\n",
       "      <td>291.67123</td>\n",
       "      <td>42.812359</td>\n",
       "      <td>13.519</td>\n",
       "    </tr>\n",
       "    <tr>\n",
       "      <th>5502</th>\n",
       "      <td>1</td>\n",
       "      <td>0</td>\n",
       "      <td>0</td>\n",
       "      <td>0</td>\n",
       "      <td>12.314402</td>\n",
       "      <td>7.970000e-07</td>\n",
       "      <td>-7.970000e-07</td>\n",
       "      <td>134.252093</td>\n",
       "      <td>0.000051</td>\n",
       "      <td>-0.000051</td>\n",
       "      <td>...</td>\n",
       "      <td>-217</td>\n",
       "      <td>4.433</td>\n",
       "      <td>0.065</td>\n",
       "      <td>-0.195</td>\n",
       "      <td>1.066</td>\n",
       "      <td>0.313</td>\n",
       "      <td>-0.112</td>\n",
       "      <td>287.72620</td>\n",
       "      <td>49.435261</td>\n",
       "      <td>14.760</td>\n",
       "    </tr>\n",
       "    <tr>\n",
       "      <th>5294</th>\n",
       "      <td>0</td>\n",
       "      <td>0</td>\n",
       "      <td>0</td>\n",
       "      <td>0</td>\n",
       "      <td>5.069932</td>\n",
       "      <td>7.750000e-05</td>\n",
       "      <td>-7.750000e-05</td>\n",
       "      <td>135.836000</td>\n",
       "      <td>0.011100</td>\n",
       "      <td>-0.011100</td>\n",
       "      <td>...</td>\n",
       "      <td>-187</td>\n",
       "      <td>4.506</td>\n",
       "      <td>0.039</td>\n",
       "      <td>-0.039</td>\n",
       "      <td>0.937</td>\n",
       "      <td>0.343</td>\n",
       "      <td>-0.084</td>\n",
       "      <td>296.23282</td>\n",
       "      <td>42.472790</td>\n",
       "      <td>14.758</td>\n",
       "    </tr>\n",
       "    <tr>\n",
       "      <th>2479</th>\n",
       "      <td>1</td>\n",
       "      <td>0</td>\n",
       "      <td>0</td>\n",
       "      <td>0</td>\n",
       "      <td>462.120690</td>\n",
       "      <td>2.005000e-02</td>\n",
       "      <td>-2.005000e-02</td>\n",
       "      <td>307.625500</td>\n",
       "      <td>0.026500</td>\n",
       "      <td>-0.026500</td>\n",
       "      <td>...</td>\n",
       "      <td>-200</td>\n",
       "      <td>4.411</td>\n",
       "      <td>0.120</td>\n",
       "      <td>-0.180</td>\n",
       "      <td>0.974</td>\n",
       "      <td>0.271</td>\n",
       "      <td>-0.146</td>\n",
       "      <td>286.21048</td>\n",
       "      <td>37.465591</td>\n",
       "      <td>14.936</td>\n",
       "    </tr>\n",
       "  </tbody>\n",
       "</table>\n",
       "<p>5 rows × 40 columns</p>\n",
       "</div>"
      ],
      "text/plain": [
       "      koi_fpflag_nt  koi_fpflag_ss  koi_fpflag_co  koi_fpflag_ec  koi_period  \\\n",
       "2921              0              0              0              0  170.995748   \n",
       "4085              0              0              1              1    0.566799   \n",
       "5502              1              0              0              0   12.314402   \n",
       "5294              0              0              0              0    5.069932   \n",
       "2479              1              0              0              0  462.120690   \n",
       "\n",
       "      koi_period_err1  koi_period_err2  koi_time0bk  koi_time0bk_err1  \\\n",
       "2921     1.230000e-03    -1.230000e-03   163.957370          0.006430   \n",
       "4085     6.080000e-06    -6.080000e-06   131.843100          0.010400   \n",
       "5502     7.970000e-07    -7.970000e-07   134.252093          0.000051   \n",
       "5294     7.750000e-05    -7.750000e-05   135.836000          0.011100   \n",
       "2479     2.005000e-02    -2.005000e-02   307.625500          0.026500   \n",
       "\n",
       "      koi_time0bk_err2  ...  koi_steff_err2  koi_slogg  koi_slogg_err1  \\\n",
       "2921         -0.006430  ...             -85      3.991           0.188   \n",
       "4085         -0.010400  ...             -84      4.553           0.013   \n",
       "5502         -0.000051  ...            -217      4.433           0.065   \n",
       "5294         -0.011100  ...            -187      4.506           0.039   \n",
       "2479         -0.026500  ...            -200      4.411           0.120   \n",
       "\n",
       "      koi_slogg_err2  koi_srad  koi_srad_err1  koi_srad_err2         ra  \\\n",
       "2921          -0.101     1.983          0.337         -0.506  298.03305   \n",
       "4085          -0.117     0.870          0.120         -0.032  291.67123   \n",
       "5502          -0.195     1.066          0.313         -0.112  287.72620   \n",
       "5294          -0.039     0.937          0.343         -0.084  296.23282   \n",
       "2479          -0.180     0.974          0.271         -0.146  286.21048   \n",
       "\n",
       "            dec  koi_kepmag  \n",
       "2921  39.883179      13.985  \n",
       "4085  42.812359      13.519  \n",
       "5502  49.435261      14.760  \n",
       "5294  42.472790      14.758  \n",
       "2479  37.465591      14.936  \n",
       "\n",
       "[5 rows x 40 columns]"
      ]
     },
     "execution_count": 6,
     "metadata": {},
     "output_type": "execute_result"
    }
   ],
   "source": [
    "X_train.head()"
   ]
  },
  {
   "cell_type": "markdown",
   "metadata": {},
   "source": [
    "# Pre-processing\n",
    "\n",
    "Scale the data using the MinMaxScaler and perform some feature selection"
   ]
  },
  {
   "cell_type": "code",
   "execution_count": 7,
   "metadata": {},
   "outputs": [],
   "source": [
    "# Scale your data\n",
    "#No need to scale the data for Random Forests"
   ]
  },
  {
   "cell_type": "markdown",
   "metadata": {},
   "source": [
    "# Train the Model\n"
   ]
  },
  {
   "cell_type": "code",
   "execution_count": 8,
   "metadata": {},
   "outputs": [
    {
     "name": "stdout",
     "output_type": "stream",
     "text": [
      "Training Data Score: 1.0\n",
      "Testing Data Score: 0.8899213724088635\n"
     ]
    }
   ],
   "source": [
    "# Create a random forest classifier\n",
    "rf = RandomForestClassifier(n_estimators=100,\n",
    "                            n_jobs=-1,\n",
    "                            oob_score=True)\n",
    "                                \n",
    "rf = rf.fit(X_train, y_train)\n",
    "\n",
    "print(f\"Training Data Score: {rf.score(X_train, y_train)}\")\n",
    "print(f\"Testing Data Score: {rf.score(X_test, y_test)}\")\n",
    "\n"
   ]
  },
  {
   "cell_type": "markdown",
   "metadata": {},
   "source": [
    "# Hyperparameter Tuning\n",
    "\n",
    "Use `GridSearchCV` to tune the model's parameters"
   ]
  },
  {
   "cell_type": "code",
   "execution_count": 9,
   "metadata": {},
   "outputs": [],
   "source": [
    "# Create the GridSearchCV model\n",
    "\n",
    "param_grid = {'criterion':['gini','entropy'],\n",
    "              'n_estimators':[100, 200],\n",
    "              'min_samples_leaf':[1,2,3,4,5,6]}\n",
    "\n",
    "# Create the GridSearch estimator along with a parameter object containing the values to adjust\n",
    "from sklearn.model_selection import GridSearchCV              \n",
    "                       \n",
    "grid = GridSearchCV(rf, param_grid, verbose=3, return_train_score=True)\n"
   ]
  },
  {
   "cell_type": "code",
   "execution_count": 10,
   "metadata": {},
   "outputs": [
    {
     "name": "stdout",
     "output_type": "stream",
     "text": [
      "Fitting 5 folds for each of 24 candidates, totalling 120 fits\n",
      "[CV 1/5] END criterion=gini, min_samples_leaf=1, n_estimators=100;, score=(train=1.000, test=0.884) total time=   1.5s\n",
      "[CV 2/5] END criterion=gini, min_samples_leaf=1, n_estimators=100;, score=(train=1.000, test=0.897) total time=   0.3s\n",
      "[CV 3/5] END criterion=gini, min_samples_leaf=1, n_estimators=100;, score=(train=1.000, test=0.884) total time=   0.3s\n",
      "[CV 4/5] END criterion=gini, min_samples_leaf=1, n_estimators=100;, score=(train=1.000, test=0.892) total time=   0.3s\n",
      "[CV 5/5] END criterion=gini, min_samples_leaf=1, n_estimators=100;, score=(train=1.000, test=0.894) total time=   0.3s\n",
      "[CV 1/5] END criterion=gini, min_samples_leaf=1, n_estimators=200;, score=(train=1.000, test=0.885) total time=   0.6s\n",
      "[CV 2/5] END criterion=gini, min_samples_leaf=1, n_estimators=200;, score=(train=1.000, test=0.896) total time=   0.6s\n",
      "[CV 3/5] END criterion=gini, min_samples_leaf=1, n_estimators=200;, score=(train=1.000, test=0.887) total time=   0.6s\n",
      "[CV 4/5] END criterion=gini, min_samples_leaf=1, n_estimators=200;, score=(train=1.000, test=0.901) total time=   0.7s\n",
      "[CV 5/5] END criterion=gini, min_samples_leaf=1, n_estimators=200;, score=(train=1.000, test=0.900) total time=   0.6s\n",
      "[CV 1/5] END criterion=gini, min_samples_leaf=2, n_estimators=100;, score=(train=0.994, test=0.890) total time=   0.3s\n",
      "[CV 2/5] END criterion=gini, min_samples_leaf=2, n_estimators=100;, score=(train=0.992, test=0.903) total time=   0.3s\n",
      "[CV 3/5] END criterion=gini, min_samples_leaf=2, n_estimators=100;, score=(train=0.992, test=0.887) total time=   0.4s\n",
      "[CV 4/5] END criterion=gini, min_samples_leaf=2, n_estimators=100;, score=(train=0.992, test=0.895) total time=   0.3s\n",
      "[CV 5/5] END criterion=gini, min_samples_leaf=2, n_estimators=100;, score=(train=0.990, test=0.899) total time=   0.3s\n",
      "[CV 1/5] END criterion=gini, min_samples_leaf=2, n_estimators=200;, score=(train=0.994, test=0.893) total time=   0.6s\n",
      "[CV 2/5] END criterion=gini, min_samples_leaf=2, n_estimators=200;, score=(train=0.993, test=0.899) total time=   0.6s\n",
      "[CV 3/5] END criterion=gini, min_samples_leaf=2, n_estimators=200;, score=(train=0.992, test=0.892) total time=   0.6s\n",
      "[CV 4/5] END criterion=gini, min_samples_leaf=2, n_estimators=200;, score=(train=0.992, test=0.895) total time=   0.6s\n",
      "[CV 5/5] END criterion=gini, min_samples_leaf=2, n_estimators=200;, score=(train=0.993, test=0.897) total time=   0.6s\n",
      "[CV 1/5] END criterion=gini, min_samples_leaf=3, n_estimators=100;, score=(train=0.981, test=0.887) total time=   0.3s\n",
      "[CV 2/5] END criterion=gini, min_samples_leaf=3, n_estimators=100;, score=(train=0.979, test=0.901) total time=   0.3s\n",
      "[CV 3/5] END criterion=gini, min_samples_leaf=3, n_estimators=100;, score=(train=0.980, test=0.886) total time=   0.3s\n",
      "[CV 4/5] END criterion=gini, min_samples_leaf=3, n_estimators=100;, score=(train=0.979, test=0.898) total time=   0.3s\n",
      "[CV 5/5] END criterion=gini, min_samples_leaf=3, n_estimators=100;, score=(train=0.979, test=0.899) total time=   0.3s\n",
      "[CV 1/5] END criterion=gini, min_samples_leaf=3, n_estimators=200;, score=(train=0.982, test=0.883) total time=   0.6s\n",
      "[CV 2/5] END criterion=gini, min_samples_leaf=3, n_estimators=200;, score=(train=0.980, test=0.900) total time=   0.6s\n",
      "[CV 3/5] END criterion=gini, min_samples_leaf=3, n_estimators=200;, score=(train=0.980, test=0.889) total time=   0.6s\n",
      "[CV 4/5] END criterion=gini, min_samples_leaf=3, n_estimators=200;, score=(train=0.981, test=0.892) total time=   0.6s\n",
      "[CV 5/5] END criterion=gini, min_samples_leaf=3, n_estimators=200;, score=(train=0.979, test=0.895) total time=   0.6s\n",
      "[CV 1/5] END criterion=gini, min_samples_leaf=4, n_estimators=100;, score=(train=0.970, test=0.881) total time=   0.3s\n",
      "[CV 2/5] END criterion=gini, min_samples_leaf=4, n_estimators=100;, score=(train=0.966, test=0.897) total time=   0.3s\n",
      "[CV 3/5] END criterion=gini, min_samples_leaf=4, n_estimators=100;, score=(train=0.969, test=0.884) total time=   0.3s\n",
      "[CV 4/5] END criterion=gini, min_samples_leaf=4, n_estimators=100;, score=(train=0.968, test=0.893) total time=   0.3s\n",
      "[CV 5/5] END criterion=gini, min_samples_leaf=4, n_estimators=100;, score=(train=0.969, test=0.893) total time=   0.3s\n",
      "[CV 1/5] END criterion=gini, min_samples_leaf=4, n_estimators=200;, score=(train=0.971, test=0.878) total time=   0.6s\n",
      "[CV 2/5] END criterion=gini, min_samples_leaf=4, n_estimators=200;, score=(train=0.970, test=0.895) total time=   0.6s\n",
      "[CV 3/5] END criterion=gini, min_samples_leaf=4, n_estimators=200;, score=(train=0.969, test=0.885) total time=   0.6s\n",
      "[CV 4/5] END criterion=gini, min_samples_leaf=4, n_estimators=200;, score=(train=0.970, test=0.896) total time=   0.7s\n",
      "[CV 5/5] END criterion=gini, min_samples_leaf=4, n_estimators=200;, score=(train=0.968, test=0.897) total time=   0.6s\n",
      "[CV 1/5] END criterion=gini, min_samples_leaf=5, n_estimators=100;, score=(train=0.959, test=0.882) total time=   0.3s\n",
      "[CV 2/5] END criterion=gini, min_samples_leaf=5, n_estimators=100;, score=(train=0.959, test=0.895) total time=   0.3s\n",
      "[CV 3/5] END criterion=gini, min_samples_leaf=5, n_estimators=100;, score=(train=0.961, test=0.883) total time=   0.3s\n",
      "[CV 4/5] END criterion=gini, min_samples_leaf=5, n_estimators=100;, score=(train=0.959, test=0.894) total time=   0.3s\n",
      "[CV 5/5] END criterion=gini, min_samples_leaf=5, n_estimators=100;, score=(train=0.960, test=0.896) total time=   0.3s\n",
      "[CV 1/5] END criterion=gini, min_samples_leaf=5, n_estimators=200;, score=(train=0.960, test=0.884) total time=   0.6s\n",
      "[CV 2/5] END criterion=gini, min_samples_leaf=5, n_estimators=200;, score=(train=0.960, test=0.896) total time=   0.6s\n",
      "[CV 3/5] END criterion=gini, min_samples_leaf=5, n_estimators=200;, score=(train=0.959, test=0.886) total time=   0.6s\n",
      "[CV 4/5] END criterion=gini, min_samples_leaf=5, n_estimators=200;, score=(train=0.960, test=0.896) total time=   0.6s\n",
      "[CV 5/5] END criterion=gini, min_samples_leaf=5, n_estimators=200;, score=(train=0.959, test=0.893) total time=   0.6s\n",
      "[CV 1/5] END criterion=gini, min_samples_leaf=6, n_estimators=100;, score=(train=0.951, test=0.888) total time=   0.3s\n",
      "[CV 2/5] END criterion=gini, min_samples_leaf=6, n_estimators=100;, score=(train=0.953, test=0.892) total time=   0.3s\n",
      "[CV 3/5] END criterion=gini, min_samples_leaf=6, n_estimators=100;, score=(train=0.953, test=0.885) total time=   0.3s\n",
      "[CV 4/5] END criterion=gini, min_samples_leaf=6, n_estimators=100;, score=(train=0.947, test=0.887) total time=   0.3s\n",
      "[CV 5/5] END criterion=gini, min_samples_leaf=6, n_estimators=100;, score=(train=0.951, test=0.889) total time=   0.3s\n",
      "[CV 1/5] END criterion=gini, min_samples_leaf=6, n_estimators=200;, score=(train=0.950, test=0.882) total time=   0.6s\n",
      "[CV 2/5] END criterion=gini, min_samples_leaf=6, n_estimators=200;, score=(train=0.952, test=0.895) total time=   0.6s\n",
      "[CV 3/5] END criterion=gini, min_samples_leaf=6, n_estimators=200;, score=(train=0.954, test=0.882) total time=   0.6s\n",
      "[CV 4/5] END criterion=gini, min_samples_leaf=6, n_estimators=200;, score=(train=0.951, test=0.891) total time=   0.6s\n",
      "[CV 5/5] END criterion=gini, min_samples_leaf=6, n_estimators=200;, score=(train=0.953, test=0.892) total time=   0.6s\n",
      "[CV 1/5] END criterion=entropy, min_samples_leaf=1, n_estimators=100;, score=(train=1.000, test=0.888) total time=   0.4s\n",
      "[CV 2/5] END criterion=entropy, min_samples_leaf=1, n_estimators=100;, score=(train=1.000, test=0.903) total time=   0.4s\n",
      "[CV 3/5] END criterion=entropy, min_samples_leaf=1, n_estimators=100;, score=(train=1.000, test=0.891) total time=   0.4s\n",
      "[CV 4/5] END criterion=entropy, min_samples_leaf=1, n_estimators=100;, score=(train=1.000, test=0.894) total time=   0.4s\n",
      "[CV 5/5] END criterion=entropy, min_samples_leaf=1, n_estimators=100;, score=(train=1.000, test=0.901) total time=   0.4s\n",
      "[CV 1/5] END criterion=entropy, min_samples_leaf=1, n_estimators=200;, score=(train=1.000, test=0.893) total time=   0.8s\n",
      "[CV 2/5] END criterion=entropy, min_samples_leaf=1, n_estimators=200;, score=(train=1.000, test=0.899) total time=   0.8s\n",
      "[CV 3/5] END criterion=entropy, min_samples_leaf=1, n_estimators=200;, score=(train=1.000, test=0.890) total time=   0.8s\n",
      "[CV 4/5] END criterion=entropy, min_samples_leaf=1, n_estimators=200;, score=(train=1.000, test=0.899) total time=   0.8s\n"
     ]
    },
    {
     "name": "stdout",
     "output_type": "stream",
     "text": [
      "[CV 5/5] END criterion=entropy, min_samples_leaf=1, n_estimators=200;, score=(train=1.000, test=0.894) total time=   0.8s\n",
      "[CV 1/5] END criterion=entropy, min_samples_leaf=2, n_estimators=100;, score=(train=0.998, test=0.889) total time=   0.4s\n",
      "[CV 2/5] END criterion=entropy, min_samples_leaf=2, n_estimators=100;, score=(train=0.998, test=0.893) total time=   0.4s\n",
      "[CV 3/5] END criterion=entropy, min_samples_leaf=2, n_estimators=100;, score=(train=0.998, test=0.885) total time=   0.4s\n",
      "[CV 4/5] END criterion=entropy, min_samples_leaf=2, n_estimators=100;, score=(train=0.997, test=0.894) total time=   0.4s\n",
      "[CV 5/5] END criterion=entropy, min_samples_leaf=2, n_estimators=100;, score=(train=0.997, test=0.897) total time=   0.4s\n",
      "[CV 1/5] END criterion=entropy, min_samples_leaf=2, n_estimators=200;, score=(train=0.998, test=0.892) total time=   0.9s\n",
      "[CV 2/5] END criterion=entropy, min_samples_leaf=2, n_estimators=200;, score=(train=0.997, test=0.897) total time=   0.8s\n",
      "[CV 3/5] END criterion=entropy, min_samples_leaf=2, n_estimators=200;, score=(train=0.997, test=0.892) total time=   0.8s\n",
      "[CV 4/5] END criterion=entropy, min_samples_leaf=2, n_estimators=200;, score=(train=0.997, test=0.896) total time=   0.8s\n",
      "[CV 5/5] END criterion=entropy, min_samples_leaf=2, n_estimators=200;, score=(train=0.998, test=0.898) total time=   0.9s\n",
      "[CV 1/5] END criterion=entropy, min_samples_leaf=3, n_estimators=100;, score=(train=0.987, test=0.882) total time=   0.4s\n",
      "[CV 2/5] END criterion=entropy, min_samples_leaf=3, n_estimators=100;, score=(train=0.987, test=0.894) total time=   0.4s\n",
      "[CV 3/5] END criterion=entropy, min_samples_leaf=3, n_estimators=100;, score=(train=0.986, test=0.888) total time=   0.4s\n",
      "[CV 4/5] END criterion=entropy, min_samples_leaf=3, n_estimators=100;, score=(train=0.988, test=0.897) total time=   0.4s\n",
      "[CV 5/5] END criterion=entropy, min_samples_leaf=3, n_estimators=100;, score=(train=0.984, test=0.894) total time=   0.4s\n",
      "[CV 1/5] END criterion=entropy, min_samples_leaf=3, n_estimators=200;, score=(train=0.988, test=0.891) total time=   0.8s\n",
      "[CV 2/5] END criterion=entropy, min_samples_leaf=3, n_estimators=200;, score=(train=0.988, test=0.895) total time=   0.8s\n",
      "[CV 3/5] END criterion=entropy, min_samples_leaf=3, n_estimators=200;, score=(train=0.986, test=0.881) total time=   0.8s\n",
      "[CV 4/5] END criterion=entropy, min_samples_leaf=3, n_estimators=200;, score=(train=0.989, test=0.894) total time=   0.8s\n",
      "[CV 5/5] END criterion=entropy, min_samples_leaf=3, n_estimators=200;, score=(train=0.985, test=0.894) total time=   0.8s\n",
      "[CV 1/5] END criterion=entropy, min_samples_leaf=4, n_estimators=100;, score=(train=0.975, test=0.884) total time=   0.4s\n",
      "[CV 2/5] END criterion=entropy, min_samples_leaf=4, n_estimators=100;, score=(train=0.975, test=0.895) total time=   0.4s\n",
      "[CV 3/5] END criterion=entropy, min_samples_leaf=4, n_estimators=100;, score=(train=0.975, test=0.891) total time=   0.4s\n",
      "[CV 4/5] END criterion=entropy, min_samples_leaf=4, n_estimators=100;, score=(train=0.975, test=0.893) total time=   0.4s\n",
      "[CV 5/5] END criterion=entropy, min_samples_leaf=4, n_estimators=100;, score=(train=0.976, test=0.897) total time=   0.4s\n",
      "[CV 1/5] END criterion=entropy, min_samples_leaf=4, n_estimators=200;, score=(train=0.978, test=0.887) total time=   0.8s\n",
      "[CV 2/5] END criterion=entropy, min_samples_leaf=4, n_estimators=200;, score=(train=0.977, test=0.895) total time=   0.8s\n",
      "[CV 3/5] END criterion=entropy, min_samples_leaf=4, n_estimators=200;, score=(train=0.975, test=0.884) total time=   0.8s\n",
      "[CV 4/5] END criterion=entropy, min_samples_leaf=4, n_estimators=200;, score=(train=0.976, test=0.894) total time=   0.8s\n",
      "[CV 5/5] END criterion=entropy, min_samples_leaf=4, n_estimators=200;, score=(train=0.975, test=0.894) total time=   0.8s\n",
      "[CV 1/5] END criterion=entropy, min_samples_leaf=5, n_estimators=100;, score=(train=0.966, test=0.884) total time=   0.4s\n",
      "[CV 2/5] END criterion=entropy, min_samples_leaf=5, n_estimators=100;, score=(train=0.964, test=0.895) total time=   0.4s\n",
      "[CV 3/5] END criterion=entropy, min_samples_leaf=5, n_estimators=100;, score=(train=0.966, test=0.886) total time=   0.4s\n",
      "[CV 4/5] END criterion=entropy, min_samples_leaf=5, n_estimators=100;, score=(train=0.964, test=0.894) total time=   0.4s\n",
      "[CV 5/5] END criterion=entropy, min_samples_leaf=5, n_estimators=100;, score=(train=0.965, test=0.896) total time=   0.4s\n",
      "[CV 1/5] END criterion=entropy, min_samples_leaf=5, n_estimators=200;, score=(train=0.966, test=0.883) total time=   0.7s\n",
      "[CV 2/5] END criterion=entropy, min_samples_leaf=5, n_estimators=200;, score=(train=0.968, test=0.895) total time=   0.7s\n",
      "[CV 3/5] END criterion=entropy, min_samples_leaf=5, n_estimators=200;, score=(train=0.966, test=0.884) total time=   0.7s\n",
      "[CV 4/5] END criterion=entropy, min_samples_leaf=5, n_estimators=200;, score=(train=0.967, test=0.894) total time=   0.8s\n",
      "[CV 5/5] END criterion=entropy, min_samples_leaf=5, n_estimators=200;, score=(train=0.967, test=0.895) total time=   0.9s\n",
      "[CV 1/5] END criterion=entropy, min_samples_leaf=6, n_estimators=100;, score=(train=0.955, test=0.882) total time=   0.5s\n",
      "[CV 2/5] END criterion=entropy, min_samples_leaf=6, n_estimators=100;, score=(train=0.956, test=0.887) total time=   0.4s\n",
      "[CV 3/5] END criterion=entropy, min_samples_leaf=6, n_estimators=100;, score=(train=0.958, test=0.888) total time=   0.4s\n",
      "[CV 4/5] END criterion=entropy, min_samples_leaf=6, n_estimators=100;, score=(train=0.955, test=0.894) total time=   0.4s\n",
      "[CV 5/5] END criterion=entropy, min_samples_leaf=6, n_estimators=100;, score=(train=0.958, test=0.896) total time=   0.4s\n",
      "[CV 1/5] END criterion=entropy, min_samples_leaf=6, n_estimators=200;, score=(train=0.958, test=0.884) total time=   0.8s\n",
      "[CV 2/5] END criterion=entropy, min_samples_leaf=6, n_estimators=200;, score=(train=0.959, test=0.893) total time=   0.8s\n",
      "[CV 3/5] END criterion=entropy, min_samples_leaf=6, n_estimators=200;, score=(train=0.956, test=0.882) total time=   0.8s\n",
      "[CV 4/5] END criterion=entropy, min_samples_leaf=6, n_estimators=200;, score=(train=0.958, test=0.893) total time=   0.7s\n",
      "[CV 5/5] END criterion=entropy, min_samples_leaf=6, n_estimators=200;, score=(train=0.959, test=0.899) total time=   0.7s\n"
     ]
    },
    {
     "data": {
      "text/plain": [
       "GridSearchCV(estimator=RandomForestClassifier(n_jobs=-1, oob_score=True),\n",
       "             param_grid={'criterion': ['gini', 'entropy'],\n",
       "                         'min_samples_leaf': [1, 2, 3, 4, 5, 6],\n",
       "                         'n_estimators': [100, 200]},\n",
       "             return_train_score=True, verbose=3)"
      ]
     },
     "execution_count": 10,
     "metadata": {},
     "output_type": "execute_result"
    }
   ],
   "source": [
    "# Train the model with GridSearch\n",
    "grid.fit(X_train, y_train)"
   ]
  },
  {
   "cell_type": "code",
   "execution_count": 11,
   "metadata": {},
   "outputs": [
    {
     "name": "stdout",
     "output_type": "stream",
     "text": [
      "{'criterion': 'entropy', 'min_samples_leaf': 1, 'n_estimators': 100}\n",
      "0.8955649770351435\n"
     ]
    }
   ],
   "source": [
    "print(grid.best_params_)\n",
    "print(grid.best_score_)"
   ]
  },
  {
   "cell_type": "code",
   "execution_count": 12,
   "metadata": {},
   "outputs": [],
   "source": [
    "predictions = grid.predict(X_test)"
   ]
  },
  {
   "cell_type": "code",
   "execution_count": 13,
   "metadata": {},
   "outputs": [
    {
     "name": "stdout",
     "output_type": "stream",
     "text": [
      "                precision    recall  f1-score   support\n",
      "\n",
      "     CONFIRMED       0.82      0.72      0.77       329\n",
      "FALSE POSITIVE       0.78      0.83      0.81       352\n",
      "     CANDIDATE       0.97      1.00      0.99       718\n",
      "\n",
      "      accuracy                           0.89      1399\n",
      "     macro avg       0.86      0.85      0.85      1399\n",
      "  weighted avg       0.89      0.89      0.89      1399\n",
      "\n"
     ]
    }
   ],
   "source": [
    "# Calculate classification report\n",
    "from sklearn.metrics import classification_report\n",
    "print(classification_report(y_test, predictions,\n",
    "                            target_names=y_names))"
   ]
  },
  {
   "cell_type": "code",
   "execution_count": 14,
   "metadata": {},
   "outputs": [
    {
     "data": {
      "image/png": "[encoded data removed]",
      "text/plain": [
       "<Figure size 432x288 with 2 Axes>"
      ]
     },
     "metadata": {
      "needs_background": "light"
     },
     "output_type": "display_data"
    }
   ],
   "source": [
    "from sklearn.metrics import confusion_matrix\n",
    "from sklearn.metrics import ConfusionMatrixDisplay\n",
    "\n",
    "y_pred = predictions\n",
    "cm = confusion_matrix(y_test, y_pred)\n",
    "\n",
    "cm_display = ConfusionMatrixDisplay(cm).plot()"
   ]
  },
  {
   "cell_type": "code",
   "execution_count": 15,
   "metadata": {},
   "outputs": [
    {
     "data": {
      "text/plain": [
       "['Random_Forests.sav']"
      ]
     },
     "execution_count": 15,
     "metadata": {},
     "output_type": "execute_result"
    }
   ],
   "source": [
    "import joblib\n",
    "filename = 'Random_Forests.sav'\n",
    "joblib.dump(rf, filename)"
   ]
  },
  {
   "cell_type": "code",
   "execution_count": null,
   "metadata": {},
   "outputs": [],
   "source": []
  },
  {
   "cell_type": "code",
   "execution_count": null,
   "metadata": {},
   "outputs": [],
   "source": []
  }
 ],
 "metadata": {
  "kernel_info": {
   "name": "dev"
  },
  "kernelspec": {
   "display_name": "Python 3 (ipykernel)",
   "language": "python",
   "name": "python3"
  },
  "language_info": {
   "codemirror_mode": {
    "name": "ipython",
    "version": 3
   },
   "file_extension": ".py",
   "mimetype": "text/x-python",
   "name": "python",
   "nbconvert_exporter": "python",
   "pygments_lexer": "ipython3",
   "version": "3.8.8"
  },
  "nteract": {
   "version": "0.12.3"
  }
 },
 "nbformat": 4,
 "nbformat_minor": 2
}
