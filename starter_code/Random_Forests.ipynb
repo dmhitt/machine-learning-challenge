{
 "cells": [
  {
   "cell_type": "code",
   "execution_count": 31,
   "metadata": {},
   "outputs": [],
   "source": [
    "from sklearn.ensemble import RandomForestClassifier\n",
    "import pandas as pd\n",
    "import numpy as np"
   ]
  },
  {
   "cell_type": "markdown",
   "metadata": {},
   "source": [
    "# Read the CSV and Perform Basic Data Cleaning"
   ]
  },
  {
   "cell_type": "code",
   "execution_count": 32,
   "metadata": {},
   "outputs": [
    {
     "data": {
      "text/html": [
       "<div>\n",
       "<style scoped>\n",
       "    .dataframe tbody tr th:only-of-type {\n",
       "        vertical-align: middle;\n",
       "    }\n",
       "\n",
       "    .dataframe tbody tr th {\n",
       "        vertical-align: top;\n",
       "    }\n",
       "\n",
       "    .dataframe thead th {\n",
       "        text-align: right;\n",
       "    }\n",
       "</style>\n",
       "<table border=\"1\" class=\"dataframe\">\n",
       "  <thead>\n",
       "    <tr style=\"text-align: right;\">\n",
       "      <th></th>\n",
       "      <th>koi_disposition</th>\n",
       "      <th>koi_fpflag_nt</th>\n",
       "      <th>koi_fpflag_ss</th>\n",
       "      <th>koi_fpflag_co</th>\n",
       "      <th>koi_fpflag_ec</th>\n",
       "      <th>koi_period</th>\n",
       "      <th>koi_period_err1</th>\n",
       "      <th>koi_period_err2</th>\n",
       "      <th>koi_time0bk</th>\n",
       "      <th>koi_time0bk_err1</th>\n",
       "      <th>...</th>\n",
       "      <th>koi_steff_err2</th>\n",
       "      <th>koi_slogg</th>\n",
       "      <th>koi_slogg_err1</th>\n",
       "      <th>koi_slogg_err2</th>\n",
       "      <th>koi_srad</th>\n",
       "      <th>koi_srad_err1</th>\n",
       "      <th>koi_srad_err2</th>\n",
       "      <th>ra</th>\n",
       "      <th>dec</th>\n",
       "      <th>koi_kepmag</th>\n",
       "    </tr>\n",
       "  </thead>\n",
       "  <tbody>\n",
       "    <tr>\n",
       "      <th>0</th>\n",
       "      <td>CONFIRMED</td>\n",
       "      <td>0</td>\n",
       "      <td>0</td>\n",
       "      <td>0</td>\n",
       "      <td>0</td>\n",
       "      <td>54.418383</td>\n",
       "      <td>2.479000e-04</td>\n",
       "      <td>-2.479000e-04</td>\n",
       "      <td>162.513840</td>\n",
       "      <td>0.003520</td>\n",
       "      <td>...</td>\n",
       "      <td>-81</td>\n",
       "      <td>4.467</td>\n",
       "      <td>0.064</td>\n",
       "      <td>-0.096</td>\n",
       "      <td>0.927</td>\n",
       "      <td>0.105</td>\n",
       "      <td>-0.061</td>\n",
       "      <td>291.93423</td>\n",
       "      <td>48.141651</td>\n",
       "      <td>15.347</td>\n",
       "    </tr>\n",
       "    <tr>\n",
       "      <th>1</th>\n",
       "      <td>FALSE POSITIVE</td>\n",
       "      <td>0</td>\n",
       "      <td>1</td>\n",
       "      <td>0</td>\n",
       "      <td>0</td>\n",
       "      <td>19.899140</td>\n",
       "      <td>1.490000e-05</td>\n",
       "      <td>-1.490000e-05</td>\n",
       "      <td>175.850252</td>\n",
       "      <td>0.000581</td>\n",
       "      <td>...</td>\n",
       "      <td>-176</td>\n",
       "      <td>4.544</td>\n",
       "      <td>0.044</td>\n",
       "      <td>-0.176</td>\n",
       "      <td>0.868</td>\n",
       "      <td>0.233</td>\n",
       "      <td>-0.078</td>\n",
       "      <td>297.00482</td>\n",
       "      <td>48.134129</td>\n",
       "      <td>15.436</td>\n",
       "    </tr>\n",
       "    <tr>\n",
       "      <th>2</th>\n",
       "      <td>FALSE POSITIVE</td>\n",
       "      <td>0</td>\n",
       "      <td>1</td>\n",
       "      <td>0</td>\n",
       "      <td>0</td>\n",
       "      <td>1.736952</td>\n",
       "      <td>2.630000e-07</td>\n",
       "      <td>-2.630000e-07</td>\n",
       "      <td>170.307565</td>\n",
       "      <td>0.000115</td>\n",
       "      <td>...</td>\n",
       "      <td>-174</td>\n",
       "      <td>4.564</td>\n",
       "      <td>0.053</td>\n",
       "      <td>-0.168</td>\n",
       "      <td>0.791</td>\n",
       "      <td>0.201</td>\n",
       "      <td>-0.067</td>\n",
       "      <td>285.53461</td>\n",
       "      <td>48.285210</td>\n",
       "      <td>15.597</td>\n",
       "    </tr>\n",
       "    <tr>\n",
       "      <th>3</th>\n",
       "      <td>CONFIRMED</td>\n",
       "      <td>0</td>\n",
       "      <td>0</td>\n",
       "      <td>0</td>\n",
       "      <td>0</td>\n",
       "      <td>2.525592</td>\n",
       "      <td>3.760000e-06</td>\n",
       "      <td>-3.760000e-06</td>\n",
       "      <td>171.595550</td>\n",
       "      <td>0.001130</td>\n",
       "      <td>...</td>\n",
       "      <td>-211</td>\n",
       "      <td>4.438</td>\n",
       "      <td>0.070</td>\n",
       "      <td>-0.210</td>\n",
       "      <td>1.046</td>\n",
       "      <td>0.334</td>\n",
       "      <td>-0.133</td>\n",
       "      <td>288.75488</td>\n",
       "      <td>48.226200</td>\n",
       "      <td>15.509</td>\n",
       "    </tr>\n",
       "    <tr>\n",
       "      <th>4</th>\n",
       "      <td>CONFIRMED</td>\n",
       "      <td>0</td>\n",
       "      <td>0</td>\n",
       "      <td>0</td>\n",
       "      <td>0</td>\n",
       "      <td>4.134435</td>\n",
       "      <td>1.050000e-05</td>\n",
       "      <td>-1.050000e-05</td>\n",
       "      <td>172.979370</td>\n",
       "      <td>0.001900</td>\n",
       "      <td>...</td>\n",
       "      <td>-232</td>\n",
       "      <td>4.486</td>\n",
       "      <td>0.054</td>\n",
       "      <td>-0.229</td>\n",
       "      <td>0.972</td>\n",
       "      <td>0.315</td>\n",
       "      <td>-0.105</td>\n",
       "      <td>296.28613</td>\n",
       "      <td>48.224670</td>\n",
       "      <td>15.714</td>\n",
       "    </tr>\n",
       "  </tbody>\n",
       "</table>\n",
       "<p>5 rows × 41 columns</p>\n",
       "</div>"
      ],
      "text/plain": [
       "  koi_disposition  koi_fpflag_nt  koi_fpflag_ss  koi_fpflag_co  koi_fpflag_ec  \\\n",
       "0       CONFIRMED              0              0              0              0   \n",
       "1  FALSE POSITIVE              0              1              0              0   \n",
       "2  FALSE POSITIVE              0              1              0              0   \n",
       "3       CONFIRMED              0              0              0              0   \n",
       "4       CONFIRMED              0              0              0              0   \n",
       "\n",
       "   koi_period  koi_period_err1  koi_period_err2  koi_time0bk  \\\n",
       "0   54.418383     2.479000e-04    -2.479000e-04   162.513840   \n",
       "1   19.899140     1.490000e-05    -1.490000e-05   175.850252   \n",
       "2    1.736952     2.630000e-07    -2.630000e-07   170.307565   \n",
       "3    2.525592     3.760000e-06    -3.760000e-06   171.595550   \n",
       "4    4.134435     1.050000e-05    -1.050000e-05   172.979370   \n",
       "\n",
       "   koi_time0bk_err1  ...  koi_steff_err2  koi_slogg  koi_slogg_err1  \\\n",
       "0          0.003520  ...             -81      4.467           0.064   \n",
       "1          0.000581  ...            -176      4.544           0.044   \n",
       "2          0.000115  ...            -174      4.564           0.053   \n",
       "3          0.001130  ...            -211      4.438           0.070   \n",
       "4          0.001900  ...            -232      4.486           0.054   \n",
       "\n",
       "   koi_slogg_err2  koi_srad  koi_srad_err1  koi_srad_err2         ra  \\\n",
       "0          -0.096     0.927          0.105         -0.061  291.93423   \n",
       "1          -0.176     0.868          0.233         -0.078  297.00482   \n",
       "2          -0.168     0.791          0.201         -0.067  285.53461   \n",
       "3          -0.210     1.046          0.334         -0.133  288.75488   \n",
       "4          -0.229     0.972          0.315         -0.105  296.28613   \n",
       "\n",
       "         dec  koi_kepmag  \n",
       "0  48.141651      15.347  \n",
       "1  48.134129      15.436  \n",
       "2  48.285210      15.597  \n",
       "3  48.226200      15.509  \n",
       "4  48.224670      15.714  \n",
       "\n",
       "[5 rows x 41 columns]"
      ]
     },
     "execution_count": 32,
     "metadata": {},
     "output_type": "execute_result"
    }
   ],
   "source": [
    "df = pd.read_csv(\"exoplanet_data.csv\")\n",
    "# Drop the null columns where all values are null\n",
    "df = df.dropna(axis='columns', how='all')\n",
    "# Drop the null rows\n",
    "df = df.dropna()\n",
    "df.head()"
   ]
  },
  {
   "cell_type": "markdown",
   "metadata": {},
   "source": [
    "# Select your features (columns)"
   ]
  },
  {
   "cell_type": "code",
   "execution_count": 33,
   "metadata": {},
   "outputs": [
    {
     "data": {
      "text/plain": [
       "(6991, 40)"
      ]
     },
     "execution_count": 33,
     "metadata": {},
     "output_type": "execute_result"
    }
   ],
   "source": [
    "# Set features. This will also be used as your x values.\n",
    "#selected_features = df.drop(['koi_disposition'], axis = 1)\n",
    "X = df.drop(['koi_disposition'], axis = 1)\n",
    "X.shape"
   ]
  },
  {
   "cell_type": "markdown",
   "metadata": {},
   "source": [
    "# Create a Train Test Split\n",
    "\n",
    "Use `koi_disposition` for the y values"
   ]
  },
  {
   "cell_type": "code",
   "execution_count": 34,
   "metadata": {},
   "outputs": [
    {
     "data": {
      "text/plain": [
       "(6991,)"
      ]
     },
     "execution_count": 34,
     "metadata": {},
     "output_type": "execute_result"
    }
   ],
   "source": [
    "y = df['koi_disposition']\n",
    "y_names = ['CONFIRMED','FALSE POSITIVE','CANDIDATE']\n",
    "y.shape\n",
    "#df.koi_disposition.value_counts()"
   ]
  },
  {
   "cell_type": "code",
   "execution_count": 35,
   "metadata": {},
   "outputs": [
    {
     "data": {
      "text/plain": [
       "((5592, 40), (1399, 40), (5592,), (1399,))"
      ]
     },
     "execution_count": 35,
     "metadata": {},
     "output_type": "execute_result"
    }
   ],
   "source": [
    "from sklearn.model_selection import train_test_split\n",
    "X_train, X_test, y_train, y_test = train_test_split(X, y, test_size=.2)\n",
    "\n",
    "X_train.shape, X_test.shape, y_train.shape, y_test.shape\n"
   ]
  },
  {
   "cell_type": "code",
   "execution_count": 36,
   "metadata": {},
   "outputs": [
    {
     "data": {
      "text/html": [
       "<div>\n",
       "<style scoped>\n",
       "    .dataframe tbody tr th:only-of-type {\n",
       "        vertical-align: middle;\n",
       "    }\n",
       "\n",
       "    .dataframe tbody tr th {\n",
       "        vertical-align: top;\n",
       "    }\n",
       "\n",
       "    .dataframe thead th {\n",
       "        text-align: right;\n",
       "    }\n",
       "</style>\n",
       "<table border=\"1\" class=\"dataframe\">\n",
       "  <thead>\n",
       "    <tr style=\"text-align: right;\">\n",
       "      <th></th>\n",
       "      <th>koi_fpflag_nt</th>\n",
       "      <th>koi_fpflag_ss</th>\n",
       "      <th>koi_fpflag_co</th>\n",
       "      <th>koi_fpflag_ec</th>\n",
       "      <th>koi_period</th>\n",
       "      <th>koi_period_err1</th>\n",
       "      <th>koi_period_err2</th>\n",
       "      <th>koi_time0bk</th>\n",
       "      <th>koi_time0bk_err1</th>\n",
       "      <th>koi_time0bk_err2</th>\n",
       "      <th>...</th>\n",
       "      <th>koi_steff_err2</th>\n",
       "      <th>koi_slogg</th>\n",
       "      <th>koi_slogg_err1</th>\n",
       "      <th>koi_slogg_err2</th>\n",
       "      <th>koi_srad</th>\n",
       "      <th>koi_srad_err1</th>\n",
       "      <th>koi_srad_err2</th>\n",
       "      <th>ra</th>\n",
       "      <th>dec</th>\n",
       "      <th>koi_kepmag</th>\n",
       "    </tr>\n",
       "  </thead>\n",
       "  <tbody>\n",
       "    <tr>\n",
       "      <th>2445</th>\n",
       "      <td>0</td>\n",
       "      <td>0</td>\n",
       "      <td>0</td>\n",
       "      <td>0</td>\n",
       "      <td>6.388997</td>\n",
       "      <td>0.000014</td>\n",
       "      <td>-0.000014</td>\n",
       "      <td>175.47610</td>\n",
       "      <td>0.00172</td>\n",
       "      <td>-0.00172</td>\n",
       "      <td>...</td>\n",
       "      <td>-111</td>\n",
       "      <td>4.376</td>\n",
       "      <td>0.099</td>\n",
       "      <td>-0.110</td>\n",
       "      <td>1.054</td>\n",
       "      <td>0.152</td>\n",
       "      <td>-0.110</td>\n",
       "      <td>283.36841</td>\n",
       "      <td>41.821861</td>\n",
       "      <td>14.532</td>\n",
       "    </tr>\n",
       "    <tr>\n",
       "      <th>1042</th>\n",
       "      <td>0</td>\n",
       "      <td>0</td>\n",
       "      <td>0</td>\n",
       "      <td>0</td>\n",
       "      <td>7.626355</td>\n",
       "      <td>0.000022</td>\n",
       "      <td>-0.000022</td>\n",
       "      <td>136.01585</td>\n",
       "      <td>0.00237</td>\n",
       "      <td>-0.00237</td>\n",
       "      <td>...</td>\n",
       "      <td>-100</td>\n",
       "      <td>4.610</td>\n",
       "      <td>0.018</td>\n",
       "      <td>-0.046</td>\n",
       "      <td>0.721</td>\n",
       "      <td>0.047</td>\n",
       "      <td>-0.029</td>\n",
       "      <td>286.66296</td>\n",
       "      <td>47.413700</td>\n",
       "      <td>14.017</td>\n",
       "    </tr>\n",
       "    <tr>\n",
       "      <th>2814</th>\n",
       "      <td>1</td>\n",
       "      <td>0</td>\n",
       "      <td>0</td>\n",
       "      <td>0</td>\n",
       "      <td>111.741576</td>\n",
       "      <td>0.001722</td>\n",
       "      <td>-0.001722</td>\n",
       "      <td>166.34080</td>\n",
       "      <td>0.01080</td>\n",
       "      <td>-0.01080</td>\n",
       "      <td>...</td>\n",
       "      <td>-173</td>\n",
       "      <td>3.338</td>\n",
       "      <td>0.198</td>\n",
       "      <td>-0.144</td>\n",
       "      <td>4.525</td>\n",
       "      <td>0.787</td>\n",
       "      <td>-1.461</td>\n",
       "      <td>292.03525</td>\n",
       "      <td>38.945911</td>\n",
       "      <td>13.075</td>\n",
       "    </tr>\n",
       "    <tr>\n",
       "      <th>6630</th>\n",
       "      <td>0</td>\n",
       "      <td>0</td>\n",
       "      <td>1</td>\n",
       "      <td>1</td>\n",
       "      <td>4.988451</td>\n",
       "      <td>0.000047</td>\n",
       "      <td>-0.000047</td>\n",
       "      <td>133.74684</td>\n",
       "      <td>0.00883</td>\n",
       "      <td>-0.00883</td>\n",
       "      <td>...</td>\n",
       "      <td>-169</td>\n",
       "      <td>4.411</td>\n",
       "      <td>0.124</td>\n",
       "      <td>-0.186</td>\n",
       "      <td>0.961</td>\n",
       "      <td>0.264</td>\n",
       "      <td>-0.142</td>\n",
       "      <td>296.44901</td>\n",
       "      <td>46.623589</td>\n",
       "      <td>15.331</td>\n",
       "    </tr>\n",
       "    <tr>\n",
       "      <th>3171</th>\n",
       "      <td>0</td>\n",
       "      <td>0</td>\n",
       "      <td>1</td>\n",
       "      <td>0</td>\n",
       "      <td>0.589459</td>\n",
       "      <td>0.000002</td>\n",
       "      <td>-0.000002</td>\n",
       "      <td>131.82156</td>\n",
       "      <td>0.00261</td>\n",
       "      <td>-0.00261</td>\n",
       "      <td>...</td>\n",
       "      <td>-184</td>\n",
       "      <td>4.517</td>\n",
       "      <td>0.095</td>\n",
       "      <td>-0.095</td>\n",
       "      <td>0.776</td>\n",
       "      <td>0.110</td>\n",
       "      <td>-0.099</td>\n",
       "      <td>295.45059</td>\n",
       "      <td>50.542110</td>\n",
       "      <td>15.314</td>\n",
       "    </tr>\n",
       "  </tbody>\n",
       "</table>\n",
       "<p>5 rows × 40 columns</p>\n",
       "</div>"
      ],
      "text/plain": [
       "      koi_fpflag_nt  koi_fpflag_ss  koi_fpflag_co  koi_fpflag_ec  koi_period  \\\n",
       "2445              0              0              0              0    6.388997   \n",
       "1042              0              0              0              0    7.626355   \n",
       "2814              1              0              0              0  111.741576   \n",
       "6630              0              0              1              1    4.988451   \n",
       "3171              0              0              1              0    0.589459   \n",
       "\n",
       "      koi_period_err1  koi_period_err2  koi_time0bk  koi_time0bk_err1  \\\n",
       "2445         0.000014        -0.000014    175.47610           0.00172   \n",
       "1042         0.000022        -0.000022    136.01585           0.00237   \n",
       "2814         0.001722        -0.001722    166.34080           0.01080   \n",
       "6630         0.000047        -0.000047    133.74684           0.00883   \n",
       "3171         0.000002        -0.000002    131.82156           0.00261   \n",
       "\n",
       "      koi_time0bk_err2  ...  koi_steff_err2  koi_slogg  koi_slogg_err1  \\\n",
       "2445          -0.00172  ...            -111      4.376           0.099   \n",
       "1042          -0.00237  ...            -100      4.610           0.018   \n",
       "2814          -0.01080  ...            -173      3.338           0.198   \n",
       "6630          -0.00883  ...            -169      4.411           0.124   \n",
       "3171          -0.00261  ...            -184      4.517           0.095   \n",
       "\n",
       "      koi_slogg_err2  koi_srad  koi_srad_err1  koi_srad_err2         ra  \\\n",
       "2445          -0.110     1.054          0.152         -0.110  283.36841   \n",
       "1042          -0.046     0.721          0.047         -0.029  286.66296   \n",
       "2814          -0.144     4.525          0.787         -1.461  292.03525   \n",
       "6630          -0.186     0.961          0.264         -0.142  296.44901   \n",
       "3171          -0.095     0.776          0.110         -0.099  295.45059   \n",
       "\n",
       "            dec  koi_kepmag  \n",
       "2445  41.821861      14.532  \n",
       "1042  47.413700      14.017  \n",
       "2814  38.945911      13.075  \n",
       "6630  46.623589      15.331  \n",
       "3171  50.542110      15.314  \n",
       "\n",
       "[5 rows x 40 columns]"
      ]
     },
     "execution_count": 36,
     "metadata": {},
     "output_type": "execute_result"
    }
   ],
   "source": [
    "X_train.head()"
   ]
  },
  {
   "cell_type": "markdown",
   "metadata": {},
   "source": [
    "# Pre-processing\n",
    "\n",
    "Scale the data using the MinMaxScaler and perform some feature selection"
   ]
  },
  {
   "cell_type": "code",
   "execution_count": 37,
   "metadata": {},
   "outputs": [],
   "source": [
    "# Scale your data\n",
    "#No need to scale the data for Random Forests"
   ]
  },
  {
   "cell_type": "markdown",
   "metadata": {},
   "source": [
    "# Train the Model\n"
   ]
  },
  {
   "cell_type": "code",
   "execution_count": 39,
   "metadata": {},
   "outputs": [
    {
     "name": "stdout",
     "output_type": "stream",
     "text": [
      "Training Data Score: 1.0\n",
      "Testing Data Score: 0.8906361686919227\n"
     ]
    }
   ],
   "source": [
    "# Create a random forest classifier\n",
    "rf = RandomForestClassifier(n_estimators=100,\n",
    "                            n_jobs=-1,\n",
    "                            oob_score=True)\n",
    "                                \n",
    "rf = rf.fit(X_train, y_train)\n",
    "\n",
    "print(f\"Training Data Score: {rf.score(X_train, y_train)}\")\n",
    "print(f\"Testing Data Score: {rf.score(X_test, y_test)}\")\n",
    "\n"
   ]
  },
  {
   "cell_type": "markdown",
   "metadata": {},
   "source": [
    "# Hyperparameter Tuning\n",
    "\n",
    "Use `GridSearchCV` to tune the model's parameters"
   ]
  },
  {
   "cell_type": "code",
   "execution_count": 40,
   "metadata": {},
   "outputs": [],
   "source": [
    "# Create the GridSearchCV model\n",
    "\n",
    "param_grid = {'criterion':['gini','entropy'],\n",
    "              'n_estimators':[100, 200],\n",
    "              'min_samples_leaf':[1,2,3,4,5,6]}\n",
    "\n",
    "# Create the GridSearch estimator along with a parameter object containing the values to adjust\n",
    "from sklearn.model_selection import GridSearchCV              \n",
    "                       \n",
    "grid = GridSearchCV(rf, param_grid, verbose=3, return_train_score=True)\n"
   ]
  },
  {
   "cell_type": "code",
   "execution_count": 41,
   "metadata": {},
   "outputs": [
    {
     "name": "stdout",
     "output_type": "stream",
     "text": [
      "Fitting 5 folds for each of 24 candidates, totalling 120 fits\n",
      "[CV 1/5] END criterion=gini, min_samples_leaf=1, n_estimators=100;, score=(train=1.000, test=0.896) total time=   1.6s\n",
      "[CV 2/5] END criterion=gini, min_samples_leaf=1, n_estimators=100;, score=(train=1.000, test=0.893) total time=   0.3s\n",
      "[CV 3/5] END criterion=gini, min_samples_leaf=1, n_estimators=100;, score=(train=1.000, test=0.894) total time=   0.3s\n",
      "[CV 4/5] END criterion=gini, min_samples_leaf=1, n_estimators=100;, score=(train=1.000, test=0.877) total time=   0.3s\n",
      "[CV 5/5] END criterion=gini, min_samples_leaf=1, n_estimators=100;, score=(train=1.000, test=0.886) total time=   0.3s\n",
      "[CV 1/5] END criterion=gini, min_samples_leaf=1, n_estimators=200;, score=(train=1.000, test=0.899) total time=   0.6s\n",
      "[CV 2/5] END criterion=gini, min_samples_leaf=1, n_estimators=200;, score=(train=1.000, test=0.895) total time=   0.6s\n",
      "[CV 3/5] END criterion=gini, min_samples_leaf=1, n_estimators=200;, score=(train=1.000, test=0.895) total time=   0.6s\n",
      "[CV 4/5] END criterion=gini, min_samples_leaf=1, n_estimators=200;, score=(train=1.000, test=0.888) total time=   0.6s\n",
      "[CV 5/5] END criterion=gini, min_samples_leaf=1, n_estimators=200;, score=(train=1.000, test=0.889) total time=   0.7s\n",
      "[CV 1/5] END criterion=gini, min_samples_leaf=2, n_estimators=100;, score=(train=0.993, test=0.903) total time=   0.3s\n",
      "[CV 2/5] END criterion=gini, min_samples_leaf=2, n_estimators=100;, score=(train=0.992, test=0.895) total time=   0.3s\n",
      "[CV 3/5] END criterion=gini, min_samples_leaf=2, n_estimators=100;, score=(train=0.994, test=0.900) total time=   0.3s\n",
      "[CV 4/5] END criterion=gini, min_samples_leaf=2, n_estimators=100;, score=(train=0.993, test=0.884) total time=   0.3s\n",
      "[CV 5/5] END criterion=gini, min_samples_leaf=2, n_estimators=100;, score=(train=0.993, test=0.886) total time=   0.3s\n",
      "[CV 1/5] END criterion=gini, min_samples_leaf=2, n_estimators=200;, score=(train=0.994, test=0.903) total time=   0.6s\n",
      "[CV 2/5] END criterion=gini, min_samples_leaf=2, n_estimators=200;, score=(train=0.994, test=0.900) total time=   0.6s\n",
      "[CV 3/5] END criterion=gini, min_samples_leaf=2, n_estimators=200;, score=(train=0.995, test=0.896) total time=   0.6s\n",
      "[CV 4/5] END criterion=gini, min_samples_leaf=2, n_estimators=200;, score=(train=0.993, test=0.891) total time=   0.6s\n",
      "[CV 5/5] END criterion=gini, min_samples_leaf=2, n_estimators=200;, score=(train=0.993, test=0.890) total time=   0.6s\n",
      "[CV 1/5] END criterion=gini, min_samples_leaf=3, n_estimators=100;, score=(train=0.980, test=0.896) total time=   0.3s\n",
      "[CV 2/5] END criterion=gini, min_samples_leaf=3, n_estimators=100;, score=(train=0.979, test=0.890) total time=   0.3s\n",
      "[CV 3/5] END criterion=gini, min_samples_leaf=3, n_estimators=100;, score=(train=0.981, test=0.896) total time=   0.3s\n",
      "[CV 4/5] END criterion=gini, min_samples_leaf=3, n_estimators=100;, score=(train=0.979, test=0.887) total time=   0.3s\n",
      "[CV 5/5] END criterion=gini, min_samples_leaf=3, n_estimators=100;, score=(train=0.979, test=0.886) total time=   0.3s\n",
      "[CV 1/5] END criterion=gini, min_samples_leaf=3, n_estimators=200;, score=(train=0.981, test=0.899) total time=   0.6s\n",
      "[CV 2/5] END criterion=gini, min_samples_leaf=3, n_estimators=200;, score=(train=0.980, test=0.898) total time=   0.6s\n",
      "[CV 3/5] END criterion=gini, min_samples_leaf=3, n_estimators=200;, score=(train=0.980, test=0.897) total time=   0.6s\n",
      "[CV 4/5] END criterion=gini, min_samples_leaf=3, n_estimators=200;, score=(train=0.981, test=0.886) total time=   0.6s\n",
      "[CV 5/5] END criterion=gini, min_samples_leaf=3, n_estimators=200;, score=(train=0.981, test=0.885) total time=   0.6s\n",
      "[CV 1/5] END criterion=gini, min_samples_leaf=4, n_estimators=100;, score=(train=0.968, test=0.901) total time=   0.3s\n",
      "[CV 2/5] END criterion=gini, min_samples_leaf=4, n_estimators=100;, score=(train=0.970, test=0.894) total time=   0.3s\n",
      "[CV 3/5] END criterion=gini, min_samples_leaf=4, n_estimators=100;, score=(train=0.971, test=0.895) total time=   0.3s\n",
      "[CV 4/5] END criterion=gini, min_samples_leaf=4, n_estimators=100;, score=(train=0.969, test=0.886) total time=   0.3s\n",
      "[CV 5/5] END criterion=gini, min_samples_leaf=4, n_estimators=100;, score=(train=0.968, test=0.885) total time=   0.3s\n",
      "[CV 1/5] END criterion=gini, min_samples_leaf=4, n_estimators=200;, score=(train=0.968, test=0.900) total time=   0.6s\n",
      "[CV 2/5] END criterion=gini, min_samples_leaf=4, n_estimators=200;, score=(train=0.969, test=0.892) total time=   0.6s\n",
      "[CV 3/5] END criterion=gini, min_samples_leaf=4, n_estimators=200;, score=(train=0.970, test=0.894) total time=   0.6s\n",
      "[CV 4/5] END criterion=gini, min_samples_leaf=4, n_estimators=200;, score=(train=0.971, test=0.886) total time=   0.6s\n",
      "[CV 5/5] END criterion=gini, min_samples_leaf=4, n_estimators=200;, score=(train=0.969, test=0.885) total time=   0.6s\n",
      "[CV 1/5] END criterion=gini, min_samples_leaf=5, n_estimators=100;, score=(train=0.960, test=0.892) total time=   0.3s\n",
      "[CV 2/5] END criterion=gini, min_samples_leaf=5, n_estimators=100;, score=(train=0.958, test=0.893) total time=   0.3s\n",
      "[CV 3/5] END criterion=gini, min_samples_leaf=5, n_estimators=100;, score=(train=0.962, test=0.889) total time=   0.3s\n",
      "[CV 4/5] END criterion=gini, min_samples_leaf=5, n_estimators=100;, score=(train=0.959, test=0.885) total time=   0.3s\n",
      "[CV 5/5] END criterion=gini, min_samples_leaf=5, n_estimators=100;, score=(train=0.959, test=0.887) total time=   0.3s\n",
      "[CV 1/5] END criterion=gini, min_samples_leaf=5, n_estimators=200;, score=(train=0.961, test=0.899) total time=   0.6s\n",
      "[CV 2/5] END criterion=gini, min_samples_leaf=5, n_estimators=200;, score=(train=0.962, test=0.896) total time=   0.6s\n",
      "[CV 3/5] END criterion=gini, min_samples_leaf=5, n_estimators=200;, score=(train=0.962, test=0.896) total time=   0.6s\n",
      "[CV 4/5] END criterion=gini, min_samples_leaf=5, n_estimators=200;, score=(train=0.958, test=0.879) total time=   0.6s\n",
      "[CV 5/5] END criterion=gini, min_samples_leaf=5, n_estimators=200;, score=(train=0.958, test=0.887) total time=   0.6s\n",
      "[CV 1/5] END criterion=gini, min_samples_leaf=6, n_estimators=100;, score=(train=0.953, test=0.903) total time=   0.3s\n",
      "[CV 2/5] END criterion=gini, min_samples_leaf=6, n_estimators=100;, score=(train=0.951, test=0.891) total time=   0.3s\n",
      "[CV 3/5] END criterion=gini, min_samples_leaf=6, n_estimators=100;, score=(train=0.952, test=0.894) total time=   0.3s\n",
      "[CV 4/5] END criterion=gini, min_samples_leaf=6, n_estimators=100;, score=(train=0.952, test=0.879) total time=   0.3s\n",
      "[CV 5/5] END criterion=gini, min_samples_leaf=6, n_estimators=100;, score=(train=0.948, test=0.879) total time=   0.3s\n",
      "[CV 1/5] END criterion=gini, min_samples_leaf=6, n_estimators=200;, score=(train=0.955, test=0.899) total time=   0.6s\n",
      "[CV 2/5] END criterion=gini, min_samples_leaf=6, n_estimators=200;, score=(train=0.952, test=0.896) total time=   0.6s\n",
      "[CV 3/5] END criterion=gini, min_samples_leaf=6, n_estimators=200;, score=(train=0.953, test=0.893) total time=   0.6s\n",
      "[CV 4/5] END criterion=gini, min_samples_leaf=6, n_estimators=200;, score=(train=0.954, test=0.886) total time=   0.6s\n",
      "[CV 5/5] END criterion=gini, min_samples_leaf=6, n_estimators=200;, score=(train=0.953, test=0.886) total time=   0.6s\n",
      "[CV 1/5] END criterion=entropy, min_samples_leaf=1, n_estimators=100;, score=(train=1.000, test=0.904) total time=   0.4s\n",
      "[CV 2/5] END criterion=entropy, min_samples_leaf=1, n_estimators=100;, score=(train=1.000, test=0.893) total time=   0.4s\n",
      "[CV 3/5] END criterion=entropy, min_samples_leaf=1, n_estimators=100;, score=(train=1.000, test=0.898) total time=   0.4s\n",
      "[CV 4/5] END criterion=entropy, min_samples_leaf=1, n_estimators=100;, score=(train=1.000, test=0.893) total time=   0.4s\n",
      "[CV 5/5] END criterion=entropy, min_samples_leaf=1, n_estimators=100;, score=(train=1.000, test=0.899) total time=   0.4s\n",
      "[CV 1/5] END criterion=entropy, min_samples_leaf=1, n_estimators=200;, score=(train=1.000, test=0.905) total time=   0.8s\n",
      "[CV 2/5] END criterion=entropy, min_samples_leaf=1, n_estimators=200;, score=(train=1.000, test=0.894) total time=   0.8s\n",
      "[CV 3/5] END criterion=entropy, min_samples_leaf=1, n_estimators=200;, score=(train=1.000, test=0.901) total time=   0.8s\n",
      "[CV 4/5] END criterion=entropy, min_samples_leaf=1, n_estimators=200;, score=(train=1.000, test=0.882) total time=   0.8s\n"
     ]
    },
    {
     "name": "stdout",
     "output_type": "stream",
     "text": [
      "[CV 5/5] END criterion=entropy, min_samples_leaf=1, n_estimators=200;, score=(train=1.000, test=0.892) total time=   0.8s\n",
      "[CV 1/5] END criterion=entropy, min_samples_leaf=2, n_estimators=100;, score=(train=0.998, test=0.907) total time=   0.4s\n",
      "[CV 2/5] END criterion=entropy, min_samples_leaf=2, n_estimators=100;, score=(train=0.997, test=0.895) total time=   0.4s\n",
      "[CV 3/5] END criterion=entropy, min_samples_leaf=2, n_estimators=100;, score=(train=0.998, test=0.899) total time=   0.4s\n",
      "[CV 4/5] END criterion=entropy, min_samples_leaf=2, n_estimators=100;, score=(train=0.997, test=0.891) total time=   0.4s\n",
      "[CV 5/5] END criterion=entropy, min_samples_leaf=2, n_estimators=100;, score=(train=0.997, test=0.892) total time=   0.4s\n",
      "[CV 1/5] END criterion=entropy, min_samples_leaf=2, n_estimators=200;, score=(train=0.998, test=0.900) total time=   0.8s\n",
      "[CV 2/5] END criterion=entropy, min_samples_leaf=2, n_estimators=200;, score=(train=0.999, test=0.901) total time=   0.8s\n",
      "[CV 3/5] END criterion=entropy, min_samples_leaf=2, n_estimators=200;, score=(train=0.998, test=0.898) total time=   0.8s\n",
      "[CV 4/5] END criterion=entropy, min_samples_leaf=2, n_estimators=200;, score=(train=0.999, test=0.888) total time=   0.8s\n",
      "[CV 5/5] END criterion=entropy, min_samples_leaf=2, n_estimators=200;, score=(train=0.997, test=0.893) total time=   0.8s\n",
      "[CV 1/5] END criterion=entropy, min_samples_leaf=3, n_estimators=100;, score=(train=0.987, test=0.897) total time=   0.4s\n",
      "[CV 2/5] END criterion=entropy, min_samples_leaf=3, n_estimators=100;, score=(train=0.986, test=0.896) total time=   0.4s\n",
      "[CV 3/5] END criterion=entropy, min_samples_leaf=3, n_estimators=100;, score=(train=0.987, test=0.894) total time=   0.4s\n",
      "[CV 4/5] END criterion=entropy, min_samples_leaf=3, n_estimators=100;, score=(train=0.986, test=0.887) total time=   0.4s\n",
      "[CV 5/5] END criterion=entropy, min_samples_leaf=3, n_estimators=100;, score=(train=0.988, test=0.889) total time=   0.4s\n",
      "[CV 1/5] END criterion=entropy, min_samples_leaf=3, n_estimators=200;, score=(train=0.987, test=0.902) total time=   0.8s\n",
      "[CV 2/5] END criterion=entropy, min_samples_leaf=3, n_estimators=200;, score=(train=0.986, test=0.894) total time=   0.8s\n",
      "[CV 3/5] END criterion=entropy, min_samples_leaf=3, n_estimators=200;, score=(train=0.987, test=0.900) total time=   0.8s\n",
      "[CV 4/5] END criterion=entropy, min_samples_leaf=3, n_estimators=200;, score=(train=0.985, test=0.889) total time=   0.8s\n",
      "[CV 5/5] END criterion=entropy, min_samples_leaf=3, n_estimators=200;, score=(train=0.986, test=0.888) total time=   0.8s\n",
      "[CV 1/5] END criterion=entropy, min_samples_leaf=4, n_estimators=100;, score=(train=0.974, test=0.902) total time=   0.4s\n",
      "[CV 2/5] END criterion=entropy, min_samples_leaf=4, n_estimators=100;, score=(train=0.977, test=0.894) total time=   0.4s\n",
      "[CV 3/5] END criterion=entropy, min_samples_leaf=4, n_estimators=100;, score=(train=0.977, test=0.897) total time=   0.4s\n",
      "[CV 4/5] END criterion=entropy, min_samples_leaf=4, n_estimators=100;, score=(train=0.973, test=0.887) total time=   0.4s\n",
      "[CV 5/5] END criterion=entropy, min_samples_leaf=4, n_estimators=100;, score=(train=0.973, test=0.889) total time=   0.4s\n",
      "[CV 1/5] END criterion=entropy, min_samples_leaf=4, n_estimators=200;, score=(train=0.976, test=0.901) total time=   0.8s\n",
      "[CV 2/5] END criterion=entropy, min_samples_leaf=4, n_estimators=200;, score=(train=0.978, test=0.894) total time=   0.8s\n",
      "[CV 3/5] END criterion=entropy, min_samples_leaf=4, n_estimators=200;, score=(train=0.976, test=0.899) total time=   0.8s\n",
      "[CV 4/5] END criterion=entropy, min_samples_leaf=4, n_estimators=200;, score=(train=0.975, test=0.888) total time=   0.8s\n",
      "[CV 5/5] END criterion=entropy, min_samples_leaf=4, n_estimators=200;, score=(train=0.975, test=0.886) total time=   0.8s\n",
      "[CV 1/5] END criterion=entropy, min_samples_leaf=5, n_estimators=100;, score=(train=0.965, test=0.902) total time=   0.4s\n",
      "[CV 2/5] END criterion=entropy, min_samples_leaf=5, n_estimators=100;, score=(train=0.966, test=0.887) total time=   0.4s\n",
      "[CV 3/5] END criterion=entropy, min_samples_leaf=5, n_estimators=100;, score=(train=0.968, test=0.895) total time=   0.4s\n",
      "[CV 4/5] END criterion=entropy, min_samples_leaf=5, n_estimators=100;, score=(train=0.968, test=0.887) total time=   0.4s\n",
      "[CV 5/5] END criterion=entropy, min_samples_leaf=5, n_estimators=100;, score=(train=0.962, test=0.891) total time=   0.4s\n",
      "[CV 1/5] END criterion=entropy, min_samples_leaf=5, n_estimators=200;, score=(train=0.966, test=0.904) total time=   0.7s\n",
      "[CV 2/5] END criterion=entropy, min_samples_leaf=5, n_estimators=200;, score=(train=0.966, test=0.893) total time=   0.7s\n",
      "[CV 3/5] END criterion=entropy, min_samples_leaf=5, n_estimators=200;, score=(train=0.968, test=0.894) total time=   0.8s\n",
      "[CV 4/5] END criterion=entropy, min_samples_leaf=5, n_estimators=200;, score=(train=0.968, test=0.885) total time=   0.7s\n",
      "[CV 5/5] END criterion=entropy, min_samples_leaf=5, n_estimators=200;, score=(train=0.968, test=0.883) total time=   0.7s\n",
      "[CV 1/5] END criterion=entropy, min_samples_leaf=6, n_estimators=100;, score=(train=0.957, test=0.895) total time=   0.4s\n",
      "[CV 2/5] END criterion=entropy, min_samples_leaf=6, n_estimators=100;, score=(train=0.958, test=0.892) total time=   0.4s\n",
      "[CV 3/5] END criterion=entropy, min_samples_leaf=6, n_estimators=100;, score=(train=0.960, test=0.898) total time=   0.4s\n",
      "[CV 4/5] END criterion=entropy, min_samples_leaf=6, n_estimators=100;, score=(train=0.957, test=0.889) total time=   0.4s\n",
      "[CV 5/5] END criterion=entropy, min_samples_leaf=6, n_estimators=100;, score=(train=0.960, test=0.887) total time=   0.4s\n",
      "[CV 1/5] END criterion=entropy, min_samples_leaf=6, n_estimators=200;, score=(train=0.958, test=0.899) total time=   0.7s\n",
      "[CV 2/5] END criterion=entropy, min_samples_leaf=6, n_estimators=200;, score=(train=0.956, test=0.889) total time=   0.8s\n",
      "[CV 3/5] END criterion=entropy, min_samples_leaf=6, n_estimators=200;, score=(train=0.960, test=0.896) total time=   0.7s\n",
      "[CV 4/5] END criterion=entropy, min_samples_leaf=6, n_estimators=200;, score=(train=0.959, test=0.884) total time=   0.7s\n",
      "[CV 5/5] END criterion=entropy, min_samples_leaf=6, n_estimators=200;, score=(train=0.958, test=0.886) total time=   0.7s\n"
     ]
    },
    {
     "data": {
      "text/plain": [
       "GridSearchCV(estimator=RandomForestClassifier(n_jobs=-1, oob_score=True),\n",
       "             param_grid={'criterion': ['gini', 'entropy'],\n",
       "                         'min_samples_leaf': [1, 2, 3, 4, 5, 6],\n",
       "                         'n_estimators': [100, 200]},\n",
       "             return_train_score=True, verbose=3)"
      ]
     },
     "execution_count": 41,
     "metadata": {},
     "output_type": "execute_result"
    }
   ],
   "source": [
    "# Train the model with GridSearch\n",
    "grid.fit(X_train, y_train)"
   ]
  },
  {
   "cell_type": "code",
   "execution_count": 42,
   "metadata": {},
   "outputs": [
    {
     "name": "stdout",
     "output_type": "stream",
     "text": [
      "{'criterion': 'entropy', 'min_samples_leaf': 1, 'n_estimators': 100}\n",
      "0.8973529266003858\n"
     ]
    }
   ],
   "source": [
    "print(grid.best_params_)\n",
    "print(grid.best_score_)"
   ]
  },
  {
   "cell_type": "code",
   "execution_count": 43,
   "metadata": {},
   "outputs": [],
   "source": [
    "predictions = grid.predict(X_test)"
   ]
  },
  {
   "cell_type": "code",
   "execution_count": 44,
   "metadata": {},
   "outputs": [
    {
     "name": "stdout",
     "output_type": "stream",
     "text": [
      "                precision    recall  f1-score   support\n",
      "\n",
      "     CONFIRMED       0.82      0.76      0.79       339\n",
      "FALSE POSITIVE       0.83      0.85      0.84       398\n",
      "     CANDIDATE       0.97      1.00      0.99       662\n",
      "\n",
      "      accuracy                           0.90      1399\n",
      "     macro avg       0.87      0.87      0.87      1399\n",
      "  weighted avg       0.90      0.90      0.90      1399\n",
      "\n"
     ]
    }
   ],
   "source": [
    "# Calculate classification report\n",
    "from sklearn.metrics import classification_report\n",
    "print(classification_report(y_test, predictions,\n",
    "                            target_names=y_names))"
   ]
  },
  {
   "cell_type": "code",
   "execution_count": 45,
   "metadata": {},
   "outputs": [
    {
     "data": {
      "image/png": "[encoded data removed]",
      "text/plain": [
       "<Figure size 432x288 with 2 Axes>"
      ]
     },
     "metadata": {
      "needs_background": "light"
     },
     "output_type": "display_data"
    }
   ],
   "source": [
    "from sklearn.metrics import confusion_matrix\n",
    "from sklearn.metrics import ConfusionMatrixDisplay\n",
    "\n",
    "y_pred = predictions\n",
    "cm = confusion_matrix(y_test, y_pred)\n",
    "\n",
    "cm_display = ConfusionMatrixDisplay(cm).plot()"
   ]
  },
  {
   "cell_type": "code",
   "execution_count": 46,
   "metadata": {},
   "outputs": [
    {
     "data": {
      "text/plain": [
       "['Dinnara_Hitt_Random_Forest.sav']"
      ]
     },
     "execution_count": 46,
     "metadata": {},
     "output_type": "execute_result"
    }
   ],
   "source": [
    "import joblib\n",
    "filename = 'Dinnara_Hitt_Random_Forest.sav'\n",
    "joblib.dump(rf, filename)"
   ]
  },
  {
   "cell_type": "code",
   "execution_count": null,
   "metadata": {},
   "outputs": [],
   "source": []
  },
  {
   "cell_type": "code",
   "execution_count": null,
   "metadata": {},
   "outputs": [],
   "source": []
  }
 ],
 "metadata": {
  "kernel_info": {
   "name": "dev"
  },
  "kernelspec": {
   "display_name": "Python 3 (ipykernel)",
   "language": "python",
   "name": "python3"
  },
  "language_info": {
   "codemirror_mode": {
    "name": "ipython",
    "version": 3
   },
   "file_extension": ".py",
   "mimetype": "text/x-python",
   "name": "python",
   "nbconvert_exporter": "python",
   "pygments_lexer": "ipython3",
   "version": "3.8.8"
  },
  "nteract": {
   "version": "0.12.3"
  }
 },
 "nbformat": 4,
 "nbformat_minor": 2
}
